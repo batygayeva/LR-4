{
 "cells": [
  {
   "cell_type": "code",
   "execution_count": 1,
   "metadata": {},
   "outputs": [],
   "source": [
    "import cv2\n",
    "import numpy as np\n",
    "def viewImage(image):\n",
    "    cv2.namedWindow(\"Display\", cv2.WINDOW_NORMAL)\n",
    "    cv2.imshow(\"Display\", image)\n",
    "    cv2.waitKey(0)\n",
    "    cv2.destroyAllWindows()"
   ]
  },
  {
   "cell_type": "code",
   "execution_count": 2,
   "metadata": {},
   "outputs": [
    {
     "name": "stdout",
     "output_type": "stream",
     "text": [
      "[[[ 60 255 255]]]\n"
     ]
    }
   ],
   "source": [
    "## Получаем HSV-представление для зеленого цвета \n",
    "green = np.uint8([[[0, 255, 0 ]]])\n",
    "green_hsv = cv2.cvtColor(green,cv2.COLOR_BGR2HSV)\n",
    "print( green_hsv)"
   ]
  },
  {
   "cell_type": "code",
   "execution_count": 3,
   "metadata": {},
   "outputs": [],
   "source": [
    "# изображение после конвертации в HSV\n",
    "\n",
    "image = cv2.imread(\"image.jpeg\")\n",
    "hsv_img = cv2.cvtColor(image, cv2.COLOR_BGR2HSV)\n",
    "viewImage(hsv_img)\n"
   ]
  },
  {
   "cell_type": "code",
   "execution_count": 4,
   "metadata": {},
   "outputs": [],
   "source": [
    "# изображение после наложения маски для унификации цвета\n",
    "\n",
    "green_low = np.array([45 , 100, 50] )\n",
    "green_high = np.array([75, 255, 255])\n",
    "curr_mask = cv2.inRange(hsv_img, green_low, green_high)\n",
    "hsv_img[curr_mask > 0] = ([75,255,200])\n",
    "viewImage(hsv_img)"
   ]
  },
  {
   "cell_type": "code",
   "execution_count": 5,
   "metadata": {},
   "outputs": [],
   "source": [
    "# изображение после преобразования HSV к оттенкам серого\n",
    "\n",
    "RGB_again = cv2.cvtColor(hsv_img, cv2.COLOR_HSV2RGB)\n",
    "gray = cv2.cvtColor(RGB_again, cv2.COLOR_RGB2GRAY)\n",
    "viewImage(gray)"
   ]
  },
  {
   "cell_type": "code",
   "execution_count": 6,
   "metadata": {},
   "outputs": [],
   "source": [
    "# пороговое изображение\n",
    "\n",
    "ret, threshold = cv2.threshold(gray, 90, 255, 0)\n",
    "viewImage(threshold)"
   ]
  },
  {
   "cell_type": "code",
   "execution_count": 7,
   "metadata": {},
   "outputs": [],
   "source": [
    "# конечное оконтуривание\n",
    "\n",
    "contours, hierarchy = cv2.findContours(threshold,cv2.RETR_TREE,cv2.CHAIN_APPROX_SIMPLE)\n",
    "cv2.drawContours(image, contours, -1, (0, 0, 255), 3)\n",
    "viewImage(image)"
   ]
  },
  {
   "cell_type": "code",
   "execution_count": null,
   "metadata": {},
   "outputs": [],
   "source": []
  }
 ],
 "metadata": {
  "kernelspec": {
   "display_name": "Python 3",
   "language": "python",
   "name": "python3"
  },
  "language_info": {
   "codemirror_mode": {
    "name": "ipython",
    "version": 3
   },
   "file_extension": ".py",
   "mimetype": "text/x-python",
   "name": "python",
   "nbconvert_exporter": "python",
   "pygments_lexer": "ipython3",
   "version": "3.7.4"
  }
 },
 "nbformat": 4,
 "nbformat_minor": 2
}
